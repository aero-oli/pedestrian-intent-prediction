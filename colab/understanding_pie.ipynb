{
  "nbformat": 4,
  "nbformat_minor": 0,
  "metadata": {
    "colab": {
      "name": "understanding_pie.ipynb",
      "provenance": [],
      "collapsed_sections": [],
      "toc_visible": true,
      "authorship_tag": "ABX9TyMv4KUPsAOmbBKojeZR4K+y"
    },
    "kernelspec": {
      "name": "python3",
      "display_name": "Python 3"
    }
  },
  "cells": [
    {
      "cell_type": "markdown",
      "metadata": {
        "id": "iUJCvmj-8bT2"
      },
      "source": [
        "#**Extracting PIE Dataset**"
      ]
    },
    {
      "cell_type": "markdown",
      "metadata": {
        "id": "qhJ-anfF8dZ9"
      },
      "source": [
        "**Goal of this colab notebook is to extract PIE data and understand the PIE dataset.**\n",
        "\n",
        "\n",
        "The code was adapted from the following repository:\n",
        "1. PIE [[Link](https://github.com/aras62/PIE)]"
      ]
    },
    {
      "cell_type": "markdown",
      "metadata": {
        "id": "4sIo69hk8ozH"
      },
      "source": [
        "![PIE Image](https://raw.githubusercontent.com/aras62/PIE/master/pie_annotations.png)"
      ]
    },
    {
      "cell_type": "markdown",
      "metadata": {
        "id": "8FaNaWjw8wHx"
      },
      "source": [
        "## Instructions to run Google Colab\n",
        "\n",
        "1. Connect Runtime to CPU for better/faster results **[RunTime -> Change RunTime Type -> None]**\n",
        "2. *To be added*"
      ]
    },
    {
      "cell_type": "markdown",
      "metadata": {
        "id": "jDBS_Jrj8zHv"
      },
      "source": [
        "## 0. Prerequisites"
      ]
    },
    {
      "cell_type": "code",
      "metadata": {
        "id": "Av7MRUWn80RQ"
      },
      "source": [
        "# Check whether GPU is provided\n",
        "!nvidia-smi\n",
        "!nvcc --version"
      ],
      "execution_count": null,
      "outputs": []
    },
    {
      "cell_type": "code",
      "metadata": {
        "id": "UtJDZwTO81Ou"
      },
      "source": [
        "# Mount your Google Drive\n",
        "from google.colab import drive\n",
        "drive.mount('/content/drive')"
      ],
      "execution_count": null,
      "outputs": []
    },
    {
      "cell_type": "code",
      "metadata": {
        "id": "tyUGYesY82lE"
      },
      "source": [
        "# Check Python Version and import os to evaluate current directories\n",
        "!python --version\n",
        "import os"
      ],
      "execution_count": null,
      "outputs": []
    },
    {
      "cell_type": "markdown",
      "metadata": {
        "id": "NpVNnJsP84Nf"
      },
      "source": [
        "## 1. PIE Dataset"
      ]
    },
    {
      "cell_type": "markdown",
      "metadata": {
        "id": "CjlXQlh985QW"
      },
      "source": [
        "### 1.1. Clone the PIE Dataset and Install Dependencies"
      ]
    },
    {
      "cell_type": "code",
      "metadata": {
        "id": "rYrWV0ES9ABC"
      },
      "source": [
        "# Sanity Check: Check Current Directory\n",
        "assert os.getcwd()=='/content', 'Directory should be \"/content\" instead of \"{}\"'.format(os.getcwd())\n",
        "\n",
        "# Clone GitHub Repository\n",
        "!git clone https://github.com/aras62/PIE.git\n",
        "%cd PIE\n",
        "\n",
        "# Install dependecies\n",
        "!pip install opencv-python\n",
        "!pip install numpy\n",
        "!pip install scikit-learn\n",
        "\n",
        "# Change Directory\n",
        "%cd .."
      ],
      "execution_count": null,
      "outputs": []
    },
    {
      "cell_type": "markdown",
      "metadata": {
        "id": "2OAhlTOi9LqD"
      },
      "source": [
        "### 1.2. Download the PIE Dataset"
      ]
    },
    {
      "cell_type": "markdown",
      "metadata": {
        "id": "yAv8pIK19YVM"
      },
      "source": [
        "**Important:** Since there is not enough space on Google Colab to convert all the videos into images, only one video would be downloaded."
      ]
    },
    {
      "cell_type": "code",
      "metadata": {
        "id": "UuC9ZgFE9M6s"
      },
      "source": [
        "# Sanity Check: Check Current Directory\n",
        "assert os.getcwd()=='/content', 'Directory should be \"/content\" instead of \"{}\"'.format(os.getcwd())\n",
        "\n",
        "# Download the JAAD_clips from the JAAD Website\n",
        "#!wget -N --recursive --no-parent -nH --cut-dirs=1 -R \"index.html*\" https://data.nvision2.eecs.yorku.ca/PIE_dataset/PIE_clips/set01/video_0001.mp4 .\n",
        "!wget -v https://data.nvision2.eecs.yorku.ca/PIE_dataset/PIE_clips/set01/video_0001.mp4"
      ],
      "execution_count": null,
      "outputs": []
    },
    {
      "cell_type": "markdown",
      "metadata": {
        "id": "vzovQBmm-fQI"
      },
      "source": [
        "### 1.3. Convert the PIE Clips into Images"
      ]
    },
    {
      "cell_type": "code",
      "metadata": {
        "id": "u2_5un1Y-hG-"
      },
      "source": [
        "# Sanity Check: Check Current Directory\n",
        "assert os.getcwd()=='/content', 'Directory should be \"/content\" instead of \"{}\"'.format(os.getcwd())\n",
        "\n",
        "# Move video to correct path\n",
        "!mkdir ./PIE/PIE_clips\n",
        "!mkdir ./PIE/PIE_clips/set01\n",
        "!mv -vi ./video_0001.mp4 ./PIE/PIE_clips/set01/\n",
        "!rm -rvf ./*.mp4\n",
        "\n",
        "# Change Current Directory\n",
        "%cd PIE"
      ],
      "execution_count": null,
      "outputs": []
    },
    {
      "cell_type": "code",
      "metadata": {
        "id": "YnwDG1eiD7GM"
      },
      "source": [
        "# Sanity Check: Check Current Directory\n",
        "assert os.getcwd()=='/content/PIE', 'Directory should be \"/content/PIE\" instead of \"{}\"'.format(os.getcwd())\n",
        "\n",
        "# Unzip all the annotations\n",
        "!unzip annotations.zip\n",
        "!unzip annotations_attributes.zip\n",
        "!unzip annotations_vehicle.zip\n",
        "\n",
        "# Remove Zip files\n",
        "!rm -rf annotations.zip\n",
        "!rm -rf annotations_attributes.zip\n",
        "!rm -rf annotations_vehicle.zip"
      ],
      "execution_count": null,
      "outputs": []
    },
    {
      "cell_type": "code",
      "metadata": {
        "id": "GLv7q050AX1z"
      },
      "source": [
        "# Sanity Check: Check Current Directory\n",
        "assert os.getcwd()=='/content/PIE', 'Directory should be \"/content/PIE\" instead of \"{}\"'.format(os.getcwd())\n",
        "\n",
        "# Convert the JAAD Clips into Images\n",
        "from pie_data import PIE\n",
        "pie_path = './'\n",
        "imdb = PIE(data_path=pie_path)\n",
        "imdb.extract_and_save_images(extract_frame_type='annotated')"
      ],
      "execution_count": null,
      "outputs": []
    },
    {
      "cell_type": "markdown",
      "metadata": {
        "id": "h-oAZO11BADL"
      },
      "source": [
        "### 1.4. Extract the annotations"
      ]
    },
    {
      "cell_type": "code",
      "metadata": {
        "id": "zYEUg1yGBAoI"
      },
      "source": [
        "# Sanity Check: Check Current Directory\n",
        "assert os.getcwd()=='/content/PIE', 'Directory should be \"/content/PIE\" instead of \"{}\"'.format(os.getcwd())\n",
        "\n",
        "# Extract all the annotations\n",
        "imdb.generate_database()"
      ],
      "execution_count": null,
      "outputs": []
    },
    {
      "cell_type": "markdown",
      "metadata": {
        "id": "twdJa43QBWQW"
      },
      "source": [
        "##**Congratulations! You have now successfully convert one PIE clip into images and generated annotations!** "
      ]
    }
  ]
}