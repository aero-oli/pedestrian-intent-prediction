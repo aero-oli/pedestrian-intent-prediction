{
  "nbformat": 4,
  "nbformat_minor": 0,
  "metadata": {
    "colab": {
      "name": "Understanding_JAAD.ipynb",
      "provenance": [],
      "collapsed_sections": [],
      "toc_visible": true,
      "include_colab_link": true
    },
    "kernelspec": {
      "display_name": "Python 3",
      "name": "python3"
    }
  },
  "cells": [
    {
      "cell_type": "markdown",
      "metadata": {
        "id": "view-in-github",
        "colab_type": "text"
      },
      "source": [
        "<a href=\"https://colab.research.google.com/github/sourabbapusridhar/master-thesis/blob/development/Understanding_JAAD.ipynb\" target=\"_parent\"><img src=\"https://colab.research.google.com/assets/colab-badge.svg\" alt=\"Open In Colab\"/></a>"
      ]
    },
    {
      "cell_type": "markdown",
      "metadata": {
        "id": "GCWJtd6bFtxw"
      },
      "source": [
        "#**Understanding JAAD Dataset**"
      ]
    },
    {
      "cell_type": "markdown",
      "metadata": {
        "id": "N3f9PE2pFu_E"
      },
      "source": [
        "**Goal of this colab notebook is to extract JAAD data and understand the JAAD dataset.**\r\n",
        "\r\n",
        "References:\r\n",
        "1. Are They Going to Cross? A Benchmark Dataset and Baseline for Pedestrian Crosswalk Behavior [[Paper](https://openaccess.thecvf.com/content_ICCV_2017_workshops/papers/w3/Rasouli_Are_They_Going_ICCV_2017_paper.pdf)] [[Code](https://github.com/ykotseruba/JAAD.git)]"
      ]
    },
    {
      "cell_type": "markdown",
      "metadata": {
        "id": "Ae1At0vO6W8m"
      },
      "source": [
        "![JAAD Image](https://raw.githubusercontent.com/ykotseruba/JAAD/JAAD_2.0/behavior.png)"
      ]
    },
    {
      "cell_type": "markdown",
      "metadata": {
        "id": "WZ4-fRYQGKh4"
      },
      "source": [
        "## Instructions to run Google Colab\r\n",
        "\r\n",
        "1. Connect Runtime to CPU for better/faster results **[RunTime -> Change RunTime Type -> None]**\r\n",
        "2. *To be added*"
      ]
    },
    {
      "cell_type": "markdown",
      "metadata": {
        "id": "6at0HzZZGQZf"
      },
      "source": [
        "## 0. Prerequisites"
      ]
    },
    {
      "cell_type": "code",
      "metadata": {
        "id": "jz-5v46COAsP"
      },
      "source": [
        "# Check whether GPU is provided\r\n",
        "!nvidia-smi\r\n",
        "!nvcc --version"
      ],
      "execution_count": null,
      "outputs": []
    },
    {
      "cell_type": "code",
      "metadata": {
        "id": "eqvaHCa_GSRW"
      },
      "source": [
        "# Mount your Google Drive\r\n",
        "from google.colab import drive\r\n",
        "drive.mount('/content/drive')"
      ],
      "execution_count": null,
      "outputs": []
    },
    {
      "cell_type": "code",
      "metadata": {
        "id": "FxlMN78nGTJR"
      },
      "source": [
        "# Check Python Version and import os to evaluate current directories\r\n",
        "!python --version\r\n",
        "import os"
      ],
      "execution_count": null,
      "outputs": []
    },
    {
      "cell_type": "markdown",
      "metadata": {
        "id": "hkPrAHxaGXHb"
      },
      "source": [
        "## 1. Extract Overall Annotations"
      ]
    },
    {
      "cell_type": "markdown",
      "metadata": {
        "id": "MmgKFWmOGrsI"
      },
      "source": [
        "### 1.1. Clone the JAAD Dataset and Install Dependencies"
      ]
    },
    {
      "cell_type": "code",
      "metadata": {
        "id": "Hzs8AXZKGxn8"
      },
      "source": [
        "# Sanity Check: Check Current Directory\r\n",
        "assert os.getcwd()=='/content', 'Directory should be \"/content\" instead of \"{}\"'.format(os.getcwd())\r\n",
        "\r\n",
        "# Clone GitHub Repository\r\n",
        "!git clone https://github.com/ykotseruba/JAAD.git\r\n",
        "%cd JAAD\r\n",
        "\r\n",
        "# Install dependecies\r\n",
        "!pip install opencv-python\r\n",
        "!pip install numpy\r\n",
        "!pip install scikit-learn\r\n",
        "\r\n",
        "# Change Directory\r\n",
        "%cd .."
      ],
      "execution_count": null,
      "outputs": []
    },
    {
      "cell_type": "markdown",
      "metadata": {
        "id": "q92jVkTlHOLL"
      },
      "source": [
        "### 1.2. Download the JAAD Dataset"
      ]
    },
    {
      "cell_type": "code",
      "metadata": {
        "id": "VF3M7Dx9HTBe"
      },
      "source": [
        "# Sanity Check: Check Current Directory\r\n",
        "assert os.getcwd()=='/content', 'Directory should be \"/content\" instead of \"{}\"'.format(os.getcwd())\r\n",
        "\r\n",
        "# Download the JAAD_clips from the JAAD Website\r\n",
        "!wget -v http://data.nvision2.eecs.yorku.ca/JAAD_dataset/data/JAAD_clips.zip\r\n",
        "\r\n",
        "# Extract JAAD Clips\r\n",
        "!unzip JAAD_clips.zip\r\n",
        "\r\n",
        "# Remove the JAAD_clips.zip from Files\r\n",
        "!rm -rf JAAD_clips.zip"
      ],
      "execution_count": null,
      "outputs": []
    },
    {
      "cell_type": "markdown",
      "metadata": {
        "id": "HgOyr31OKTAC"
      },
      "source": [
        "### 1.3. Convert the JAAD Clips into Images"
      ]
    },
    {
      "cell_type": "markdown",
      "metadata": {
        "id": "SkbQlP7v2z6c"
      },
      "source": [
        "**Important:** Since there is not enough space on Google Colab to convert all the videos into images, all videos except one is deleted"
      ]
    },
    {
      "cell_type": "code",
      "metadata": {
        "id": "qKOGpsYj22GK"
      },
      "source": [
        "# Sanity Check: Check Current Directory\r\n",
        "assert os.getcwd()=='/content', 'Directory should be \"/content\" instead of \"{}\"'.format(os.getcwd())\r\n",
        "\r\n",
        "# Copy one video to convert the video into images and get the annotations\r\n",
        "!cp -v ./JAAD_clips/video_0001.mp4 .\r\n",
        "!rm -rvf ./JAAD_clips/*.mp4\r\n",
        "!cp -v ./video_0001.mp4 ./JAAD_clips/\r\n",
        "!rm -rvf ./*.mp4\r\n",
        "!mv -vi ./JAAD_clips ./JAAD/\r\n",
        "\r\n",
        "# Change Current Directory\r\n",
        "%cd JAAD"
      ],
      "execution_count": null,
      "outputs": []
    },
    {
      "cell_type": "code",
      "metadata": {
        "id": "N1GLsOcWKfFx"
      },
      "source": [
        "# Sanity Check: Check Current Directory\r\n",
        "assert os.getcwd()=='/content/JAAD', 'Directory should be \"/content/JAAD\" instead of \"{}\"'.format(os.getcwd())\r\n",
        "\r\n",
        "# Convert the JAAD Clips into Images\r\n",
        "from jaad_data import JAAD\r\n",
        "jaad_path = './'\r\n",
        "imdb = JAAD(data_path=jaad_path)\r\n",
        "imdb.extract_and_save_images()"
      ],
      "execution_count": null,
      "outputs": []
    },
    {
      "cell_type": "markdown",
      "metadata": {
        "id": "oqhUgT4CKgN2"
      },
      "source": [
        "### 1.4. Extract overall annotations"
      ]
    },
    {
      "cell_type": "code",
      "metadata": {
        "id": "9Lhuk9AnKjtW"
      },
      "source": [
        "# Sanity Check: Check Current Directory\r\n",
        "assert os.getcwd()=='/content/JAAD', 'Directory should be \"/content/JAAD\" instead of \"{}\"'.format(os.getcwd())\r\n",
        "\r\n",
        "# Extract all the annotations\r\n",
        "imdb.generate_database()"
      ],
      "execution_count": null,
      "outputs": []
    },
    {
      "cell_type": "markdown",
      "metadata": {
        "id": "6w2wWBTm5bQS"
      },
      "source": [
        "**Congratulations! You have now successfully convert one JAAD clip into images and generated overall annotations!** "
      ]
    },
    {
      "cell_type": "markdown",
      "metadata": {
        "id": "jnyHTDDCJxUX"
      },
      "source": [
        "# 2. Extract Detection Annotations"
      ]
    },
    {
      "cell_type": "markdown",
      "metadata": {
        "id": "gXkgdIV7KFl3"
      },
      "source": [
        "### 2.1. Define Configuration Parameters"
      ]
    },
    {
      "cell_type": "markdown",
      "metadata": {
        "id": "ASubeCibKHqa"
      },
      "source": [
        "**Important:** For more information, read the documentation [here](https://github.com/ykotseruba/JAAD#parameters)."
      ]
    },
    {
      "cell_type": "code",
      "metadata": {
        "id": "iIS5j3UIKIgT"
      },
      "source": [
        "# Sanity Check: Check Current Directory\r\n",
        "assert os.getcwd()=='/content/JAAD', 'Directory should be \"/content/JAAD\" instead of \"{}\"'.format(os.getcwd())\r\n",
        "\r\n",
        "# Define the Configuration Parameters\r\n",
        "data_opts = {'fstride': 1, \r\n",
        "             'sample_type': 'beh', \r\n",
        "             'subset': 'high_visibility', \r\n",
        "             'data_split_type': 'default', \r\n",
        "             'seq_type': 'intention', \r\n",
        "             'height_rng': [0, float('inf')],\r\n",
        "             'squarify_ratio': 0, \r\n",
        "             'min_track_size': 15,            \r\n",
        "             'random_params': {'ratios': None, \r\n",
        "                               'val_data': True, \r\n",
        "                               'regen_data': True}, \r\n",
        "             'kfold_params': {'num_folds': 5, \r\n",
        "                              'fold': 1}}"
      ],
      "execution_count": null,
      "outputs": []
    },
    {
      "cell_type": "markdown",
      "metadata": {
        "id": "3hbckMSNKJ-n"
      },
      "source": [
        "### 2.2. Generate Detection Annotations Based on YOLO3 Format"
      ]
    },
    {
      "cell_type": "code",
      "metadata": {
        "id": "6Q3riSGFKOVa"
      },
      "source": [
        "# Sanity Check: Check Current Directory\r\n",
        "assert os.getcwd()=='/content/JAAD', 'Directory should be \"/content/JAAD\" instead of \"{}\"'.format(os.getcwd())\r\n",
        "\r\n",
        "# Print Configuration Parameters\r\n",
        "print(\"Current Configuration Parameters are as follows:\")\r\n",
        "pprint.pprint(data_opts, depth=2)\r\n",
        "\r\n",
        "# Generate Detection Data Based on YOLOv3 Format\r\n",
        "imdb.get_detection_data('all', 'yolo3', None, './data/')"
      ],
      "execution_count": null,
      "outputs": []
    },
    {
      "cell_type": "markdown",
      "metadata": {
        "id": "kNSx4vnUKS88"
      },
      "source": [
        "### 2.3. Display Generated Annotations and Detections"
      ]
    },
    {
      "cell_type": "markdown",
      "metadata": {
        "id": "aeWiYgp-KX1S"
      },
      "source": [
        "**Important:** Since files of sizes more than 10MB cannot be read and displayed on the console, the annotations of one video is displayed on the console."
      ]
    },
    {
      "cell_type": "code",
      "metadata": {
        "id": "cY1Gca5JKYrf"
      },
      "source": [
        "\"\"\"\r\n",
        "# Sanity Check: Check Current Directory\r\n",
        "assert os.getcwd()=='/content/JAAD', 'Directory should be \"/content/JAAD\" instead of \"{}\"'.format(os.getcwd())\r\n",
        "\r\n",
        "# Display Overall Generated Annotations for the first video\r\n",
        "with open('./data_cache/jaad_database.pkl', 'rb') as f:\r\n",
        "    jaad_database = pd.read_pickle(f)\r\n",
        "    print(\"Annotations Generated!\")\r\n",
        "    print(\"Overall Size of Complete Annotations: {}\".format(len(jaad_database)))\r\n",
        "    print(\"Overall annotations generated for the first video!\")\r\n",
        "    pprint.pprint(jaad_database['video_0001'], depth=1)\r\n",
        "\r\n",
        "    # Uncomment the below lines if required\r\n",
        "    print(\"Pedestrian annotations generated for the first video!\")\r\n",
        "    pprint.pprint(jaad_database['video_0001'][\"ped_annotations\"], depth=1)\r\n",
        "    print(\"Traffic annotations generated for the first video!\")\r\n",
        "    pprint.pprint(jaad_database['video_0001'][\"traffic_annotations\"], depth=1)\r\n",
        "    print(\"Vehicle annotations generated for the first video!\")\r\n",
        "    pprint.pprint(jaad_database['video_0001'][\"vehicle_annotations\"], depth=1)\r\n",
        "\"\"\""
      ],
      "execution_count": null,
      "outputs": []
    },
    {
      "cell_type": "code",
      "metadata": {
        "id": "t7QcGYD3KcXS"
      },
      "source": [
        "\"\"\"\r\n",
        "# Sanity Check: Check Current Directory\r\n",
        "assert os.getcwd()=='/content/JAAD', 'Directory should be \"/content/JAAD\" instead of \"{}\"'.format(os.getcwd())\r\n",
        "\r\n",
        "# Display Overall Generated Trajectories for the first video\r\n",
        "pprint.pprint(trajectories, depth=1)\r\n",
        "\"\"\""
      ],
      "execution_count": null,
      "outputs": []
    },
    {
      "cell_type": "markdown",
      "metadata": {
        "id": "G4xt1So4J41f"
      },
      "source": [
        "# 3. Extract Trajectory Annotations"
      ]
    },
    {
      "cell_type": "markdown",
      "metadata": {
        "id": "ZotKVYElKhjS"
      },
      "source": [
        "### 3.1. Redefine Configuration Parameters"
      ]
    },
    {
      "cell_type": "markdown",
      "metadata": {
        "id": "SzD-WKi1KsMS"
      },
      "source": [
        "**Important:** For more information, read the documentation [here](https://github.com/ykotseruba/JAAD#parameters)."
      ]
    },
    {
      "cell_type": "code",
      "metadata": {
        "id": "G3CFDsBGKvlz"
      },
      "source": [
        "# Sanity Check: Check Current Directory\r\n",
        "assert os.getcwd()=='/content/JAAD', 'Directory should be \"/content/JAAD\" instead of \"{}\"'.format(os.getcwd())\r\n",
        "\r\n",
        "# Define the Configuration Parameters\r\n",
        "data_opts = {'fstride': 1,\r\n",
        "             'sample_type': 'all',\r\n",
        "             'subset': 'default',\r\n",
        "             'data_split_type': 'default',\r\n",
        "             'seq_type': 'intention',\r\n",
        "             'height_rng': [0, float('inf')],\r\n",
        "             'squarify_ratio': 0,\r\n",
        "             'min_track_size': 15,\r\n",
        "             'random_params': {'ratios': None,\r\n",
        "                               'val_data': True,\r\n",
        "                               'regen_data': False},\r\n",
        "             'kfold_params': {'num_folds': 5, 'fold': 1}}"
      ],
      "execution_count": null,
      "outputs": []
    },
    {
      "cell_type": "markdown",
      "metadata": {
        "id": "To3EAqmlKzBu"
      },
      "source": [
        "### 3.2. Generate Trajectory Annotations from JAAD Dataset"
      ]
    },
    {
      "cell_type": "markdown",
      "metadata": {
        "id": "TWwkBpwOK7nw"
      },
      "source": [
        "**Important:** For more information, read the documentation [here](https://github.com/ykotseruba/JAAD#sequence-analysis) and the code [here](https://github.com/ykotseruba/JAAD/blob/60ac86dc87015651a3bb2fa22f2edaf48711f629/jaad_data.py#L983)."
      ]
    },
    {
      "cell_type": "code",
      "metadata": {
        "id": "5-c0OYhUK8oH"
      },
      "source": [
        "# Sanity Check: Check Current Directory\r\n",
        "assert os.getcwd()=='/content/JAAD', 'Directory should be \"/content/JAAD\" instead of \"{}\"'.format(os.getcwd())\r\n",
        "\r\n",
        "# Print Configuration Parameters\r\n",
        "print(\"Current Configuration Parameters are as follows:\")\r\n",
        "pprint.pprint(data_opts, depth=2)\r\n",
        "\r\n",
        "# Generate Detection Data Based on YOLOv3 Format\r\n",
        "# TODO: Change Options to Generate Trajectories Based on Requirements\r\n",
        "trajectories = imdb.generate_data_trajectory_sequence('all')"
      ],
      "execution_count": null,
      "outputs": []
    },
    {
      "cell_type": "markdown",
      "metadata": {
        "id": "vx_UmjItK_GF"
      },
      "source": [
        "### 3.3. Display Generated Annotations and Trajectories"
      ]
    },
    {
      "cell_type": "markdown",
      "metadata": {
        "id": "3nop109nLDYA"
      },
      "source": [
        "**Important:** Since files of sizes more than 10MB cannot be read and displayed on the console, the annotations of one video is displayed on the console."
      ]
    },
    {
      "cell_type": "code",
      "metadata": {
        "id": "gTSNWlRrLEh9"
      },
      "source": [
        "# Sanity Check: Check Current Directory\r\n",
        "assert os.getcwd()=='/content/JAAD', 'Directory should be \"/content/JAAD\" instead of \"{}\"'.format(os.getcwd())\r\n",
        "\r\n",
        "# Display Overall Generated Annotations for the first video\r\n",
        "with open('./data_cache/jaad_database.pkl', 'rb') as f:\r\n",
        "    jaad_database = pd.read_pickle(f)\r\n",
        "    print(\"Annotations Generated!\")\r\n",
        "    print(\"Overall Size of Complete Annotations: {}\".format(len(jaad_database)))\r\n",
        "    print(\"Overall annotations generated for the first video!\")\r\n",
        "    pprint.pprint(jaad_database['video_0001'], depth=1)\r\n",
        "\r\n",
        "    # Uncomment the below lines if required\r\n",
        "    \"\"\"\r\n",
        "    print(\"Pedestrian annotations generated for the first video!\")\r\n",
        "    pprint.pprint(jaad_database['video_0001'][\"ped_annotations\"], depth=1)\r\n",
        "    print(\"Traffic annotations generated for the first video!\")\r\n",
        "    pprint.pprint(jaad_database['video_0001'][\"traffic_annotations\"], depth=1)\r\n",
        "    print(\"Vehicle annotations generated for the first video!\")\r\n",
        "    pprint.pprint(jaad_database['video_0001'][\"vehicle_annotations\"], depth=1)\r\n",
        "    \"\"\""
      ],
      "execution_count": null,
      "outputs": []
    },
    {
      "cell_type": "code",
      "metadata": {
        "id": "4TpFPC4WLFl7"
      },
      "source": [
        "# Sanity Check: Check Current Directory\r\n",
        "assert os.getcwd()=='/content/JAAD', 'Directory should be \"/content/JAAD\" instead of \"{}\"'.format(os.getcwd())\r\n",
        "\r\n",
        "# Display Overall Generated Trajectories for the first video\r\n",
        "pprint.pprint(trajectories, depth=1)"
      ],
      "execution_count": null,
      "outputs": []
    },
    {
      "cell_type": "markdown",
      "metadata": {
        "id": "9QRYRRtpJ-Ar"
      },
      "source": [
        "# 4. Analyze Overall JAAD Data"
      ]
    }
  ]
}